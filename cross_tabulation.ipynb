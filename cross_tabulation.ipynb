{
 "cells": [
  {
   "cell_type": "markdown",
   "metadata": {},
   "source": [
    "# Cross tabulation"
   ]
  },
  {
   "cell_type": "markdown",
   "metadata": {},
   "source": [
    "Dependence of two categorical variables can be studied using cross tabulation."
   ]
  },
  {
   "cell_type": "code",
   "execution_count": 2,
   "metadata": {},
   "outputs": [],
   "source": [
    "### First we import necessary libraries.\n",
    "\n",
    "import pandas as pd\n",
    "import matplotlib.pyplot as plt\n",
    "\n",
    "\n",
    "### Style has effect on layout of the graphics.\n",
    "### Available styles can be listed with the command plt.style.available\n",
    "### We use the following style\n",
    "\n",
    "plt.style.use('seaborn-whitegrid')"
   ]
  },
  {
   "cell_type": "code",
   "execution_count": 3,
   "metadata": {},
   "outputs": [
    {
     "data": {
      "text/html": [
       "<div>\n",
       "<style scoped>\n",
       "    .dataframe tbody tr th:only-of-type {\n",
       "        vertical-align: middle;\n",
       "    }\n",
       "\n",
       "    .dataframe tbody tr th {\n",
       "        vertical-align: top;\n",
       "    }\n",
       "\n",
       "    .dataframe thead th {\n",
       "        text-align: right;\n",
       "    }\n",
       "</style>\n",
       "<table border=\"1\" class=\"dataframe\">\n",
       "  <thead>\n",
       "    <tr style=\"text-align: right;\">\n",
       "      <th></th>\n",
       "      <th>number</th>\n",
       "      <th>sex</th>\n",
       "      <th>age</th>\n",
       "      <th>family</th>\n",
       "      <th>education</th>\n",
       "      <th>empl_years</th>\n",
       "      <th>salary</th>\n",
       "      <th>management</th>\n",
       "      <th>colleagues</th>\n",
       "      <th>environment</th>\n",
       "      <th>salary_level</th>\n",
       "      <th>duties</th>\n",
       "      <th>occu_health</th>\n",
       "      <th>timeshare</th>\n",
       "      <th>gym</th>\n",
       "      <th>massage</th>\n",
       "    </tr>\n",
       "  </thead>\n",
       "  <tbody>\n",
       "    <tr>\n",
       "      <th>0</th>\n",
       "      <td>1</td>\n",
       "      <td>1</td>\n",
       "      <td>38</td>\n",
       "      <td>1</td>\n",
       "      <td>1.0</td>\n",
       "      <td>22.0</td>\n",
       "      <td>3587</td>\n",
       "      <td>3</td>\n",
       "      <td>3.0</td>\n",
       "      <td>3</td>\n",
       "      <td>3</td>\n",
       "      <td>3</td>\n",
       "      <td>NaN</td>\n",
       "      <td>NaN</td>\n",
       "      <td>NaN</td>\n",
       "      <td>NaN</td>\n",
       "    </tr>\n",
       "    <tr>\n",
       "      <th>1</th>\n",
       "      <td>2</td>\n",
       "      <td>1</td>\n",
       "      <td>29</td>\n",
       "      <td>2</td>\n",
       "      <td>2.0</td>\n",
       "      <td>10.0</td>\n",
       "      <td>2963</td>\n",
       "      <td>1</td>\n",
       "      <td>5.0</td>\n",
       "      <td>2</td>\n",
       "      <td>1</td>\n",
       "      <td>3</td>\n",
       "      <td>NaN</td>\n",
       "      <td>NaN</td>\n",
       "      <td>NaN</td>\n",
       "      <td>NaN</td>\n",
       "    </tr>\n",
       "    <tr>\n",
       "      <th>2</th>\n",
       "      <td>3</td>\n",
       "      <td>1</td>\n",
       "      <td>30</td>\n",
       "      <td>1</td>\n",
       "      <td>1.0</td>\n",
       "      <td>7.0</td>\n",
       "      <td>1989</td>\n",
       "      <td>3</td>\n",
       "      <td>4.0</td>\n",
       "      <td>1</td>\n",
       "      <td>1</td>\n",
       "      <td>3</td>\n",
       "      <td>1.0</td>\n",
       "      <td>NaN</td>\n",
       "      <td>NaN</td>\n",
       "      <td>NaN</td>\n",
       "    </tr>\n",
       "    <tr>\n",
       "      <th>3</th>\n",
       "      <td>4</td>\n",
       "      <td>1</td>\n",
       "      <td>36</td>\n",
       "      <td>2</td>\n",
       "      <td>1.0</td>\n",
       "      <td>14.0</td>\n",
       "      <td>2144</td>\n",
       "      <td>3</td>\n",
       "      <td>3.0</td>\n",
       "      <td>3</td>\n",
       "      <td>3</td>\n",
       "      <td>3</td>\n",
       "      <td>1.0</td>\n",
       "      <td>NaN</td>\n",
       "      <td>NaN</td>\n",
       "      <td>NaN</td>\n",
       "    </tr>\n",
       "    <tr>\n",
       "      <th>4</th>\n",
       "      <td>5</td>\n",
       "      <td>1</td>\n",
       "      <td>24</td>\n",
       "      <td>1</td>\n",
       "      <td>2.0</td>\n",
       "      <td>4.0</td>\n",
       "      <td>2183</td>\n",
       "      <td>2</td>\n",
       "      <td>3.0</td>\n",
       "      <td>2</td>\n",
       "      <td>1</td>\n",
       "      <td>2</td>\n",
       "      <td>1.0</td>\n",
       "      <td>NaN</td>\n",
       "      <td>NaN</td>\n",
       "      <td>NaN</td>\n",
       "    </tr>\n",
       "  </tbody>\n",
       "</table>\n",
       "</div>"
      ],
      "text/plain": [
       "   number  sex  age  family  education  empl_years  salary  management  \\\n",
       "0       1    1   38       1        1.0        22.0    3587           3   \n",
       "1       2    1   29       2        2.0        10.0    2963           1   \n",
       "2       3    1   30       1        1.0         7.0    1989           3   \n",
       "3       4    1   36       2        1.0        14.0    2144           3   \n",
       "4       5    1   24       1        2.0         4.0    2183           2   \n",
       "\n",
       "   colleagues  environment  salary_level  duties  occu_health  timeshare  gym  \\\n",
       "0         3.0            3             3       3          NaN        NaN  NaN   \n",
       "1         5.0            2             1       3          NaN        NaN  NaN   \n",
       "2         4.0            1             1       3          1.0        NaN  NaN   \n",
       "3         3.0            3             3       3          1.0        NaN  NaN   \n",
       "4         3.0            2             1       2          1.0        NaN  NaN   \n",
       "\n",
       "   massage  \n",
       "0      NaN  \n",
       "1      NaN  \n",
       "2      NaN  \n",
       "3      NaN  \n",
       "4      NaN  "
      ]
     },
     "execution_count": 3,
     "metadata": {},
     "output_type": "execute_result"
    }
   ],
   "source": [
    "### Opening the data and reading it into a dataframe\n",
    "\n",
    "df = pd.read_excel('http://myy.haaga-helia.fi/~menetelmat/Data-analytiikka/Teaching/data1_en.xlsx')\n",
    "\n",
    "### LEt's have a view at the beginning of the data\n",
    "\n",
    "df.head()"
   ]
  },
  {
   "cell_type": "code",
   "execution_count": 4,
   "metadata": {},
   "outputs": [],
   "source": [
    "### Create lists of variables using the defined text format\n",
    "\n",
    "education = ['Comprehensive school', 'Upper secondary school', 'Academic degree', 'Higher academic degree']\n",
    "\n",
    "sex = ['Male', 'Female']"
   ]
  },
  {
   "cell_type": "code",
   "execution_count": 6,
   "metadata": {},
   "outputs": [
    {
     "data": {
      "text/html": [
       "<div>\n",
       "<style scoped>\n",
       "    .dataframe tbody tr th:only-of-type {\n",
       "        vertical-align: middle;\n",
       "    }\n",
       "\n",
       "    .dataframe tbody tr th {\n",
       "        vertical-align: top;\n",
       "    }\n",
       "\n",
       "    .dataframe thead th {\n",
       "        text-align: right;\n",
       "    }\n",
       "</style>\n",
       "<table border=\"1\" class=\"dataframe\">\n",
       "  <thead>\n",
       "    <tr style=\"text-align: right;\">\n",
       "      <th></th>\n",
       "      <th>Male</th>\n",
       "      <th>Female</th>\n",
       "    </tr>\n",
       "  </thead>\n",
       "  <tbody>\n",
       "    <tr>\n",
       "      <th>Comprehensive school</th>\n",
       "      <td>22</td>\n",
       "      <td>5</td>\n",
       "    </tr>\n",
       "    <tr>\n",
       "      <th>Upper secondary school</th>\n",
       "      <td>23</td>\n",
       "      <td>7</td>\n",
       "    </tr>\n",
       "    <tr>\n",
       "      <th>Academic degree</th>\n",
       "      <td>15</td>\n",
       "      <td>7</td>\n",
       "    </tr>\n",
       "    <tr>\n",
       "      <th>Higher academic degree</th>\n",
       "      <td>2</td>\n",
       "      <td>0</td>\n",
       "    </tr>\n",
       "  </tbody>\n",
       "</table>\n",
       "</div>"
      ],
      "text/plain": [
       "                        Male  Female\n",
       "Comprehensive school      22       5\n",
       "Upper secondary school    23       7\n",
       "Academic degree           15       7\n",
       "Higher academic degree     2       0"
      ]
     },
     "execution_count": 6,
     "metadata": {},
     "output_type": "execute_result"
    }
   ],
   "source": [
    "### cross tabulation in numbers\n",
    "\n",
    "df1 = pd.crosstab(df['education'], df['sex'])\n",
    "\n",
    "### If you view the result, you see it's necessary to redefine the headers\n",
    "\n",
    "df1.index = education\n",
    "df1.columns = sex\n",
    "\n",
    "df1"
   ]
  },
  {
   "cell_type": "markdown",
   "metadata": {},
   "source": [
    "In next examples parameters for cross tabulation are introduced."
   ]
  },
  {
   "cell_type": "code",
   "execution_count": 12,
   "metadata": {},
   "outputs": [
    {
     "data": {
      "text/html": [
       "<style  type=\"text/css\" >\n",
       "</style><table id=\"T_de9c10ff_1a08_11ec_89ca_8a5ff4684098\" ><thead>    <tr>        <th class=\"blank level0\" ></th>        <th class=\"col_heading level0 col0\" >Male</th>        <th class=\"col_heading level0 col1\" >Female</th>    </tr></thead><tbody>\n",
       "                <tr>\n",
       "                        <th id=\"T_de9c10ff_1a08_11ec_89ca_8a5ff4684098level0_row0\" class=\"row_heading level0 row0\" >Comprehensive school</th>\n",
       "                        <td id=\"T_de9c10ff_1a08_11ec_89ca_8a5ff4684098row0_col0\" class=\"data row0 col0\" >35.5 %</td>\n",
       "                        <td id=\"T_de9c10ff_1a08_11ec_89ca_8a5ff4684098row0_col1\" class=\"data row0 col1\" >26.3 %</td>\n",
       "            </tr>\n",
       "            <tr>\n",
       "                        <th id=\"T_de9c10ff_1a08_11ec_89ca_8a5ff4684098level0_row1\" class=\"row_heading level0 row1\" >Upper secondary school</th>\n",
       "                        <td id=\"T_de9c10ff_1a08_11ec_89ca_8a5ff4684098row1_col0\" class=\"data row1 col0\" >37.1 %</td>\n",
       "                        <td id=\"T_de9c10ff_1a08_11ec_89ca_8a5ff4684098row1_col1\" class=\"data row1 col1\" >36.8 %</td>\n",
       "            </tr>\n",
       "            <tr>\n",
       "                        <th id=\"T_de9c10ff_1a08_11ec_89ca_8a5ff4684098level0_row2\" class=\"row_heading level0 row2\" >Academic degree</th>\n",
       "                        <td id=\"T_de9c10ff_1a08_11ec_89ca_8a5ff4684098row2_col0\" class=\"data row2 col0\" >24.2 %</td>\n",
       "                        <td id=\"T_de9c10ff_1a08_11ec_89ca_8a5ff4684098row2_col1\" class=\"data row2 col1\" >36.8 %</td>\n",
       "            </tr>\n",
       "            <tr>\n",
       "                        <th id=\"T_de9c10ff_1a08_11ec_89ca_8a5ff4684098level0_row3\" class=\"row_heading level0 row3\" >Higher academic degree</th>\n",
       "                        <td id=\"T_de9c10ff_1a08_11ec_89ca_8a5ff4684098row3_col0\" class=\"data row3 col0\" >3.2 %</td>\n",
       "                        <td id=\"T_de9c10ff_1a08_11ec_89ca_8a5ff4684098row3_col1\" class=\"data row3 col1\" >0.0 %</td>\n",
       "            </tr>\n",
       "    </tbody></table>"
      ],
      "text/plain": [
       "<pandas.io.formats.style.Styler at 0x1c2bfa49be0>"
      ]
     },
     "execution_count": 12,
     "metadata": {},
     "output_type": "execute_result"
    }
   ],
   "source": [
    "### Cross tabulation and and percentages (normalize) calculated from column totals\n",
    "\n",
    "df2 = pd.crosstab(df['education'], df['sex'], normalize = 'columns') * 100\n",
    "\n",
    "### Obviously polishing is needed in the dataframe df2\n",
    "\n",
    "df2.index = education\n",
    "df2.columns = sex\n",
    "\n",
    "### Finally tune the number formats\n",
    "\n",
    "df2.style.format('{:.1f} %')"
   ]
  },
  {
   "cell_type": "code",
   "execution_count": 13,
   "metadata": {},
   "outputs": [
    {
     "data": {
      "text/html": [
       "<style  type=\"text/css\" >\n",
       "</style><table id=\"T_aed4ad02_1a0a_11ec_835c_8a5ff4684098\" ><thead>    <tr>        <th class=\"blank level0\" ></th>        <th class=\"col_heading level0 col0\" >Male, n=62</th>        <th class=\"col_heading level0 col1\" >Female, n=19</th>    </tr></thead><tbody>\n",
       "                <tr>\n",
       "                        <th id=\"T_aed4ad02_1a0a_11ec_835c_8a5ff4684098level0_row0\" class=\"row_heading level0 row0\" >Comprehensive school</th>\n",
       "                        <td id=\"T_aed4ad02_1a0a_11ec_835c_8a5ff4684098row0_col0\" class=\"data row0 col0\" >35.5 %</td>\n",
       "                        <td id=\"T_aed4ad02_1a0a_11ec_835c_8a5ff4684098row0_col1\" class=\"data row0 col1\" >26.3 %</td>\n",
       "            </tr>\n",
       "            <tr>\n",
       "                        <th id=\"T_aed4ad02_1a0a_11ec_835c_8a5ff4684098level0_row1\" class=\"row_heading level0 row1\" >Upper secondary school</th>\n",
       "                        <td id=\"T_aed4ad02_1a0a_11ec_835c_8a5ff4684098row1_col0\" class=\"data row1 col0\" >37.1 %</td>\n",
       "                        <td id=\"T_aed4ad02_1a0a_11ec_835c_8a5ff4684098row1_col1\" class=\"data row1 col1\" >36.8 %</td>\n",
       "            </tr>\n",
       "            <tr>\n",
       "                        <th id=\"T_aed4ad02_1a0a_11ec_835c_8a5ff4684098level0_row2\" class=\"row_heading level0 row2\" >Academic degree</th>\n",
       "                        <td id=\"T_aed4ad02_1a0a_11ec_835c_8a5ff4684098row2_col0\" class=\"data row2 col0\" >24.2 %</td>\n",
       "                        <td id=\"T_aed4ad02_1a0a_11ec_835c_8a5ff4684098row2_col1\" class=\"data row2 col1\" >36.8 %</td>\n",
       "            </tr>\n",
       "            <tr>\n",
       "                        <th id=\"T_aed4ad02_1a0a_11ec_835c_8a5ff4684098level0_row3\" class=\"row_heading level0 row3\" >Higher academic degree</th>\n",
       "                        <td id=\"T_aed4ad02_1a0a_11ec_835c_8a5ff4684098row3_col0\" class=\"data row3 col0\" >3.2 %</td>\n",
       "                        <td id=\"T_aed4ad02_1a0a_11ec_835c_8a5ff4684098row3_col1\" class=\"data row3 col1\" >0.0 %</td>\n",
       "            </tr>\n",
       "    </tbody></table>"
      ],
      "text/plain": [
       "<pandas.io.formats.style.Styler at 0x1c2bfa6e0d0>"
      ]
     },
     "execution_count": 13,
     "metadata": {},
     "output_type": "execute_result"
    }
   ],
   "source": [
    "### Let's continue the previous example\n",
    "### We obviously need to add the n-values\n",
    "\n",
    "df3 = pd.crosstab(df['education'], df['sex'], normalize = 'columns') * 100\n",
    "\n",
    "df3.index = education\n",
    "df3.columns = sex\n",
    "\n",
    "### We bring the n-values to the columns using the previous table with calculated numbers (df1)\n",
    "\n",
    "for var in df3.columns:\n",
    "    df3 = df3.rename(columns = {var : var + ', n=' + str(df1[var].sum())})\n",
    "    \n",
    "### Finally tune the number formats\n",
    "\n",
    "df3.style.format('{:.1f} %')"
   ]
  },
  {
   "cell_type": "markdown",
   "metadata": {},
   "source": [
    "Next we introduce graphics related to the cross tabulation."
   ]
  },
  {
   "cell_type": "code",
   "execution_count": 14,
   "metadata": {},
   "outputs": [
    {
     "data": {
      "image/png": "[encoded data removed]",
      "text/plain": [
       "<Figure size 432x288 with 1 Axes>"
      ]
     },
     "metadata": {},
     "output_type": "display_data"
    }
   ],
   "source": [
    "### Draw the previous calculations as bars; the parameter legend='reverse' turn thr order of the legends\n",
    "\n",
    "df3.plot.barh(legend = 'reverse')\n",
    "\n",
    "### Title for the horisontal axis\n",
    "\n",
    "plt.xlabel('Per cent of sex')\n",
    "\n",
    "### The used style seaborn-whitegrid includes both horisontal and vertical background grids.\n",
    "### Here we only want to use the vertical grids.\n",
    "\n",
    "plt.grid(axis = 'y')"
   ]
  },
  {
   "cell_type": "code",
   "execution_count": 19,
   "metadata": {},
   "outputs": [
    {
     "data": {
      "text/plain": [
       "<matplotlib.legend.Legend at 0x1c2c12b46d0>"
      ]
     },
     "execution_count": 19,
     "metadata": {},
     "output_type": "execute_result"
    },
    {
     "data": {
      "image/png": "[encoded data removed]",
      "text/plain": [
       "<Figure size 432x288 with 1 Axes>"
      ]
     },
     "metadata": {},
     "output_type": "display_data"
    }
   ],
   "source": [
    "### Next draw the previous as 100 per cent stack bars.\n",
    "### The parameter T changes the rows and columns (values and categories) of a table \n",
    "\n",
    "df3.T.plot.barh(stacked = True)\n",
    "\n",
    "### Obviously the result needs be improved.\n",
    "\n",
    "### Add the horisontal axis title\n",
    "plt.xlabel('Per cent of sex')\n",
    "\n",
    "### Show only vertical grids.\n",
    "\n",
    "plt.grid(axis = 'y')\n",
    "\n",
    "### ¨Placing the legends with respect to the origin\n",
    "\n",
    "plt.legend(loc=(-0.14, -0.25), ncol = 4)"
   ]
  },
  {
   "cell_type": "markdown",
   "metadata": {},
   "source": [
    "## Is the depence seen in cross tabbing statistically significant?"
   ]
  },
  {
   "cell_type": "markdown",
   "metadata": {},
   "source": [
    "When conclusions about bigger population are considered based on results calculated from smaller samples of the population, issues about statistical significance need to be considered. For instance, dependencies in a sample may be too small in order to be generalized to the bigger population, where the sample is chosen from. There might be a dependence caused by sampling error (randomness) in question. "
   ]
  },
  {
   "cell_type": "markdown",
   "metadata": {},
   "source": [
    "Dependence is called statistically significant if it can be generalized to a bigger population the sample is chosen from. Significance of depence can be tested by calculating the so-called <strong>p-value</strong>. The smaller the p-value is, the more significant is the dependence. Standard practice is that p-values below 0,05, i.e. 5 %, are considered signs of dependences that are statistically significant. "
   ]
  },
  {
   "cell_type": "markdown",
   "metadata": {},
   "source": [
    "P-value related to cross tabulation can be calculated with the so-called chi squared test (chi2_contingency). The values returned by the test are chi squared, the p-value and dgerees of freedom (here abbreviated as df)."
   ]
  },
  {
   "cell_type": "code",
   "execution_count": 21,
   "metadata": {},
   "outputs": [
    {
     "data": {
      "text/plain": [
       "(1.836533415650563,\n",
       " 0.6070173075042058,\n",
       " 3,\n",
       " array([[20.66666667,  6.33333333],\n",
       "        [22.96296296,  7.03703704],\n",
       "        [16.83950617,  5.16049383],\n",
       "        [ 1.5308642 ,  0.4691358 ]]))"
      ]
     },
     "execution_count": 21,
     "metadata": {},
     "output_type": "execute_result"
    }
   ],
   "source": [
    "### Import the necessary libraries \n",
    "\n",
    "from scipy.stats import chi2_contingency\n",
    "\n",
    "### Note that chi squared test is always calculated from the numbers of occurrencies. Always.\n",
    "### So here we use the dataframe df1 where the numbers are calculated.\n",
    "\n",
    "chi2_contingency(df1)"
   ]
  },
  {
   "cell_type": "markdown",
   "metadata": {},
   "source": [
    "The result of the above chi squared test is interpreted as follows: <br />\n",
    "Dependence is not statistically significant, chi squared is 1,84, p-value is 0,607, degrees of freedom is 3."
   ]
  },
  {
   "cell_type": "markdown",
   "metadata": {},
   "source": [
    "In the result of the contingency test also expected variances are shown; that is, variances in a hypothetical situation where no dependencies exist."
   ]
  },
  {
   "cell_type": "markdown",
   "metadata": {},
   "source": [
    "Source and origin of inspiration:<br /> \n",
    "Aki Taanila: Data-analytiikka Pythonilla: <a href=\"https://tilastoapu.wordpress.com/python/\">https://tilastoapu.wordpress.com/python/</a>"
   ]
  }
 ],
 "metadata": {
  "kernelspec": {
   "display_name": "Python 3",
   "language": "python",
   "name": "python3"
  },
  "language_info": {
   "codemirror_mode": {
    "name": "ipython",
    "version": 3
   },
   "file_extension": ".py",
   "mimetype": "text/x-python",
   "name": "python",
   "nbconvert_exporter": "python",
   "pygments_lexer": "ipython3",
   "version": "3.7.10"
  }
 },
 "nbformat": 4,
 "nbformat_minor": 4
}
