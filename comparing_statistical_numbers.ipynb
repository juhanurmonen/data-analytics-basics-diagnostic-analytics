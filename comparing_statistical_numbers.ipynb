{
 "cells": [
  {
   "cell_type": "markdown",
   "id": "bad8a929",
   "metadata": {},
   "source": [
    "# Comparing statistical numbers between groups"
   ]
  },
  {
   "cell_type": "markdown",
   "id": "a0aad32c",
   "metadata": {},
   "source": [
    "Statistical numbers calculated for numerical variables can be compared in groups defined by a categorical variable."
   ]
  },
  {
   "cell_type": "code",
   "execution_count": 1,
   "id": "de4c17d8",
   "metadata": {},
   "outputs": [],
   "source": [
    "### Import the libraries needed\n",
    "\n",
    "import pandas as pd\n",
    "import matplotlib.pyplot as plt\n",
    "import seaborn as sns\n",
    "\n",
    "### Style affects on layout of the graphics used\n",
    "### Styles available can be listed using the command plt.style.available\n",
    "plt.style.use('seaborn-whitegrid')"
   ]
  },
  {
   "cell_type": "code",
   "execution_count": 2,
   "id": "dfeaa2eb",
   "metadata": {},
   "outputs": [
    {
     "data": {
      "text/html": [
       "<div>\n",
       "<style scoped>\n",
       "    .dataframe tbody tr th:only-of-type {\n",
       "        vertical-align: middle;\n",
       "    }\n",
       "\n",
       "    .dataframe tbody tr th {\n",
       "        vertical-align: top;\n",
       "    }\n",
       "\n",
       "    .dataframe thead th {\n",
       "        text-align: right;\n",
       "    }\n",
       "</style>\n",
       "<table border=\"1\" class=\"dataframe\">\n",
       "  <thead>\n",
       "    <tr style=\"text-align: right;\">\n",
       "      <th></th>\n",
       "      <th>number</th>\n",
       "      <th>sex</th>\n",
       "      <th>age</th>\n",
       "      <th>family</th>\n",
       "      <th>education</th>\n",
       "      <th>empl_years</th>\n",
       "      <th>salary</th>\n",
       "      <th>management</th>\n",
       "      <th>colleagues</th>\n",
       "      <th>environment</th>\n",
       "      <th>salary_level</th>\n",
       "      <th>duties</th>\n",
       "      <th>occu_health</th>\n",
       "      <th>timeshare</th>\n",
       "      <th>gym</th>\n",
       "      <th>massage</th>\n",
       "    </tr>\n",
       "  </thead>\n",
       "  <tbody>\n",
       "    <tr>\n",
       "      <th>0</th>\n",
       "      <td>1</td>\n",
       "      <td>1</td>\n",
       "      <td>38</td>\n",
       "      <td>1</td>\n",
       "      <td>1.0</td>\n",
       "      <td>22.0</td>\n",
       "      <td>3587</td>\n",
       "      <td>3</td>\n",
       "      <td>3.0</td>\n",
       "      <td>3</td>\n",
       "      <td>3</td>\n",
       "      <td>3</td>\n",
       "      <td>NaN</td>\n",
       "      <td>NaN</td>\n",
       "      <td>NaN</td>\n",
       "      <td>NaN</td>\n",
       "    </tr>\n",
       "    <tr>\n",
       "      <th>1</th>\n",
       "      <td>2</td>\n",
       "      <td>1</td>\n",
       "      <td>29</td>\n",
       "      <td>2</td>\n",
       "      <td>2.0</td>\n",
       "      <td>10.0</td>\n",
       "      <td>2963</td>\n",
       "      <td>1</td>\n",
       "      <td>5.0</td>\n",
       "      <td>2</td>\n",
       "      <td>1</td>\n",
       "      <td>3</td>\n",
       "      <td>NaN</td>\n",
       "      <td>NaN</td>\n",
       "      <td>NaN</td>\n",
       "      <td>NaN</td>\n",
       "    </tr>\n",
       "    <tr>\n",
       "      <th>2</th>\n",
       "      <td>3</td>\n",
       "      <td>1</td>\n",
       "      <td>30</td>\n",
       "      <td>1</td>\n",
       "      <td>1.0</td>\n",
       "      <td>7.0</td>\n",
       "      <td>1989</td>\n",
       "      <td>3</td>\n",
       "      <td>4.0</td>\n",
       "      <td>1</td>\n",
       "      <td>1</td>\n",
       "      <td>3</td>\n",
       "      <td>1.0</td>\n",
       "      <td>NaN</td>\n",
       "      <td>NaN</td>\n",
       "      <td>NaN</td>\n",
       "    </tr>\n",
       "    <tr>\n",
       "      <th>3</th>\n",
       "      <td>4</td>\n",
       "      <td>1</td>\n",
       "      <td>36</td>\n",
       "      <td>2</td>\n",
       "      <td>1.0</td>\n",
       "      <td>14.0</td>\n",
       "      <td>2144</td>\n",
       "      <td>3</td>\n",
       "      <td>3.0</td>\n",
       "      <td>3</td>\n",
       "      <td>3</td>\n",
       "      <td>3</td>\n",
       "      <td>1.0</td>\n",
       "      <td>NaN</td>\n",
       "      <td>NaN</td>\n",
       "      <td>NaN</td>\n",
       "    </tr>\n",
       "    <tr>\n",
       "      <th>4</th>\n",
       "      <td>5</td>\n",
       "      <td>1</td>\n",
       "      <td>24</td>\n",
       "      <td>1</td>\n",
       "      <td>2.0</td>\n",
       "      <td>4.0</td>\n",
       "      <td>2183</td>\n",
       "      <td>2</td>\n",
       "      <td>3.0</td>\n",
       "      <td>2</td>\n",
       "      <td>1</td>\n",
       "      <td>2</td>\n",
       "      <td>1.0</td>\n",
       "      <td>NaN</td>\n",
       "      <td>NaN</td>\n",
       "      <td>NaN</td>\n",
       "    </tr>\n",
       "  </tbody>\n",
       "</table>\n",
       "</div>"
      ],
      "text/plain": [
       "   number  sex  age  family  education  empl_years  salary  management  \\\n",
       "0       1    1   38       1        1.0        22.0    3587           3   \n",
       "1       2    1   29       2        2.0        10.0    2963           1   \n",
       "2       3    1   30       1        1.0         7.0    1989           3   \n",
       "3       4    1   36       2        1.0        14.0    2144           3   \n",
       "4       5    1   24       1        2.0         4.0    2183           2   \n",
       "\n",
       "   colleagues  environment  salary_level  duties  occu_health  timeshare  gym  \\\n",
       "0         3.0            3             3       3          NaN        NaN  NaN   \n",
       "1         5.0            2             1       3          NaN        NaN  NaN   \n",
       "2         4.0            1             1       3          1.0        NaN  NaN   \n",
       "3         3.0            3             3       3          1.0        NaN  NaN   \n",
       "4         3.0            2             1       2          1.0        NaN  NaN   \n",
       "\n",
       "   massage  \n",
       "0      NaN  \n",
       "1      NaN  \n",
       "2      NaN  \n",
       "3      NaN  \n",
       "4      NaN  "
      ]
     },
     "execution_count": 2,
     "metadata": {},
     "output_type": "execute_result"
    }
   ],
   "source": [
    "### Open the data in a dataframe\n",
    "\n",
    "df = pd.read_excel('http://myy.haaga-helia.fi/~menetelmat/Data-analytiikka/Teaching/data1_en.xlsx')\n",
    "\n",
    "### Peek the data\n",
    "\n",
    "df.head()"
   ]
  },
  {
   "cell_type": "code",
   "execution_count": 3,
   "id": "6bd94eee",
   "metadata": {},
   "outputs": [],
   "source": [
    "### Create lists of variables using the defined text format\n",
    "\n",
    "sex = ['Male', 'Female']\n",
    "\n",
    "education = ['Comprehensive school', 'Upper secondary school', 'Academic degree', 'Higher academic degree']"
   ]
  },
  {
   "cell_type": "markdown",
   "id": "3eaff309",
   "metadata": {},
   "source": [
    "## groupby() + describe()"
   ]
  },
  {
   "cell_type": "markdown",
   "id": "23e3dc75",
   "metadata": {},
   "source": [
    "Data can be divided into groups using the command <strong>groupby()</strong> and then calculate the statistical numbers."
   ]
  },
  {
   "cell_type": "code",
   "execution_count": 10,
   "id": "981d693c",
   "metadata": {},
   "outputs": [
    {
     "data": {
      "text/html": [
       "<style type=\"text/css\">\n",
       "</style>\n",
       "<table id=\"T_c0cef_\">\n",
       "  <thead>\n",
       "    <tr>\n",
       "      <th class=\"blank level0\" >&nbsp;</th>\n",
       "      <th class=\"col_heading level0 col0\" >Male</th>\n",
       "      <th class=\"col_heading level0 col1\" >Female</th>\n",
       "    </tr>\n",
       "  </thead>\n",
       "  <tbody>\n",
       "    <tr>\n",
       "      <th id=\"T_c0cef_level0_row0\" class=\"row_heading level0 row0\" >Count</th>\n",
       "      <td id=\"T_c0cef_row0_col0\" class=\"data row0 col0\" >63</td>\n",
       "      <td id=\"T_c0cef_row0_col1\" class=\"data row0 col1\" >19</td>\n",
       "    </tr>\n",
       "    <tr>\n",
       "      <th id=\"T_c0cef_level0_row1\" class=\"row_heading level0 row1\" >Mean</th>\n",
       "      <td id=\"T_c0cef_row1_col0\" class=\"data row1 col0\" >2664</td>\n",
       "      <td id=\"T_c0cef_row1_col1\" class=\"data row1 col1\" >2233</td>\n",
       "    </tr>\n",
       "    <tr>\n",
       "      <th id=\"T_c0cef_level0_row2\" class=\"row_heading level0 row2\" >Standard deviation</th>\n",
       "      <td id=\"T_c0cef_row2_col0\" class=\"data row2 col0\" >930</td>\n",
       "      <td id=\"T_c0cef_row2_col1\" class=\"data row2 col1\" >341</td>\n",
       "    </tr>\n",
       "    <tr>\n",
       "      <th id=\"T_c0cef_level0_row3\" class=\"row_heading level0 row3\" >Minimum</th>\n",
       "      <td id=\"T_c0cef_row3_col0\" class=\"data row3 col0\" >1521</td>\n",
       "      <td id=\"T_c0cef_row3_col1\" class=\"data row3 col1\" >1715</td>\n",
       "    </tr>\n",
       "    <tr>\n",
       "      <th id=\"T_c0cef_level0_row4\" class=\"row_heading level0 row4\" >Lower quartile</th>\n",
       "      <td id=\"T_c0cef_row4_col0\" class=\"data row4 col0\" >2086</td>\n",
       "      <td id=\"T_c0cef_row4_col1\" class=\"data row4 col1\" >1969</td>\n",
       "    </tr>\n",
       "    <tr>\n",
       "      <th id=\"T_c0cef_level0_row5\" class=\"row_heading level0 row5\" >Median</th>\n",
       "      <td id=\"T_c0cef_row5_col0\" class=\"data row5 col0\" >2417</td>\n",
       "      <td id=\"T_c0cef_row5_col1\" class=\"data row5 col1\" >2144</td>\n",
       "    </tr>\n",
       "    <tr>\n",
       "      <th id=\"T_c0cef_level0_row6\" class=\"row_heading level0 row6\" >Upper quartile</th>\n",
       "      <td id=\"T_c0cef_row6_col0\" class=\"data row6 col0\" >2925</td>\n",
       "      <td id=\"T_c0cef_row6_col1\" class=\"data row6 col1\" >2574</td>\n",
       "    </tr>\n",
       "    <tr>\n",
       "      <th id=\"T_c0cef_level0_row7\" class=\"row_heading level0 row7\" >Maximum</th>\n",
       "      <td id=\"T_c0cef_row7_col0\" class=\"data row7 col0\" >6278</td>\n",
       "      <td id=\"T_c0cef_row7_col1\" class=\"data row7 col1\" >2729</td>\n",
       "    </tr>\n",
       "  </tbody>\n",
       "</table>\n"
      ],
      "text/plain": [
       "<pandas.io.formats.style.Styler at 0x2d16ddad808>"
      ]
     },
     "execution_count": 10,
     "metadata": {},
     "output_type": "execute_result"
    }
   ],
   "source": [
    "### Compare statistical numbers of salary  by sexes.\n",
    "\n",
    "df1 = df.groupby('sex')['salary'].describe()\n",
    "\n",
    "### Polishing th result is obviously need.\n",
    "\n",
    "### Headers of the table\n",
    "\n",
    "df1.index = sex\n",
    "\n",
    "### Proper names for statistical numbers\n",
    "\n",
    "df1.columns = ['Count', 'Mean', 'Standard deviation', 'Minimum', 'Lower quartile', 'Median', 'Upper quartile', 'Maximum']\n",
    "\n",
    "### Also tune the number formats and turn the table\n",
    "\n",
    "df1.T.style.format('{:.0f}')\n"
   ]
  },
  {
   "cell_type": "code",
   "execution_count": 14,
   "id": "b9cab0ad",
   "metadata": {},
   "outputs": [
    {
     "data": {
      "text/html": [
       "<style type=\"text/css\">\n",
       "</style>\n",
       "<table id=\"T_e8994_\">\n",
       "  <thead>\n",
       "    <tr>\n",
       "      <th class=\"blank level0\" >&nbsp;</th>\n",
       "      <th class=\"col_heading level0 col0\" >count</th>\n",
       "      <th class=\"col_heading level0 col1\" >mean</th>\n",
       "      <th class=\"col_heading level0 col2\" >std</th>\n",
       "      <th class=\"col_heading level0 col3\" >min</th>\n",
       "      <th class=\"col_heading level0 col4\" >25%</th>\n",
       "      <th class=\"col_heading level0 col5\" >50%</th>\n",
       "      <th class=\"col_heading level0 col6\" >75%</th>\n",
       "      <th class=\"col_heading level0 col7\" >max</th>\n",
       "    </tr>\n",
       "  </thead>\n",
       "  <tbody>\n",
       "    <tr>\n",
       "      <th id=\"T_e8994_level0_row0\" class=\"row_heading level0 row0\" >Comprehensive school</th>\n",
       "      <td id=\"T_e8994_row0_col0\" class=\"data row0 col0\" >27</td>\n",
       "      <td id=\"T_e8994_row0_col1\" class=\"data row0 col1\" >2310</td>\n",
       "      <td id=\"T_e8994_row0_col2\" class=\"data row0 col2\" >473</td>\n",
       "      <td id=\"T_e8994_row0_col3\" class=\"data row0 col3\" >1638</td>\n",
       "      <td id=\"T_e8994_row0_col4\" class=\"data row0 col4\" >2008</td>\n",
       "      <td id=\"T_e8994_row0_col5\" class=\"data row0 col5\" >2144</td>\n",
       "      <td id=\"T_e8994_row0_col6\" class=\"data row0 col6\" >2534</td>\n",
       "      <td id=\"T_e8994_row0_col7\" class=\"data row0 col7\" >3587</td>\n",
       "    </tr>\n",
       "    <tr>\n",
       "      <th id=\"T_e8994_level0_row1\" class=\"row_heading level0 row1\" >Upper secondary school</th>\n",
       "      <td id=\"T_e8994_row1_col0\" class=\"data row1 col0\" >30</td>\n",
       "      <td id=\"T_e8994_row1_col1\" class=\"data row1 col1\" >2403</td>\n",
       "      <td id=\"T_e8994_row1_col2\" class=\"data row1 col2\" >534</td>\n",
       "      <td id=\"T_e8994_row1_col3\" class=\"data row1 col3\" >1521</td>\n",
       "      <td id=\"T_e8994_row1_col4\" class=\"data row1 col4\" >2008</td>\n",
       "      <td id=\"T_e8994_row1_col5\" class=\"data row1 col5\" >2378</td>\n",
       "      <td id=\"T_e8994_row1_col6\" class=\"data row1 col6\" >2729</td>\n",
       "      <td id=\"T_e8994_row1_col7\" class=\"data row1 col7\" >3510</td>\n",
       "    </tr>\n",
       "    <tr>\n",
       "      <th id=\"T_e8994_level0_row2\" class=\"row_heading level0 row2\" >Academic degree</th>\n",
       "      <td id=\"T_e8994_row2_col0\" class=\"data row2 col0\" >22</td>\n",
       "      <td id=\"T_e8994_row2_col1\" class=\"data row2 col1\" >2887</td>\n",
       "      <td id=\"T_e8994_row2_col2\" class=\"data row2 col2\" >1108</td>\n",
       "      <td id=\"T_e8994_row2_col3\" class=\"data row2 col3\" >1559</td>\n",
       "      <td id=\"T_e8994_row2_col4\" class=\"data row2 col4\" >2222</td>\n",
       "      <td id=\"T_e8994_row2_col5\" class=\"data row2 col5\" >2710</td>\n",
       "      <td id=\"T_e8994_row2_col6\" class=\"data row2 col6\" >2925</td>\n",
       "      <td id=\"T_e8994_row2_col7\" class=\"data row2 col7\" >6278</td>\n",
       "    </tr>\n",
       "    <tr>\n",
       "      <th id=\"T_e8994_level0_row3\" class=\"row_heading level0 row3\" >Higher academic degree</th>\n",
       "      <td id=\"T_e8994_row3_col0\" class=\"data row3 col0\" >2</td>\n",
       "      <td id=\"T_e8994_row3_col1\" class=\"data row3 col1\" >5147</td>\n",
       "      <td id=\"T_e8994_row3_col2\" class=\"data row3 col2\" >110</td>\n",
       "      <td id=\"T_e8994_row3_col3\" class=\"data row3 col3\" >5069</td>\n",
       "      <td id=\"T_e8994_row3_col4\" class=\"data row3 col4\" >5108</td>\n",
       "      <td id=\"T_e8994_row3_col5\" class=\"data row3 col5\" >5147</td>\n",
       "      <td id=\"T_e8994_row3_col6\" class=\"data row3 col6\" >5186</td>\n",
       "      <td id=\"T_e8994_row3_col7\" class=\"data row3 col7\" >5225</td>\n",
       "    </tr>\n",
       "  </tbody>\n",
       "</table>\n"
      ],
      "text/plain": [
       "<pandas.io.formats.style.Styler at 0x2d16dda6c08>"
      ]
     },
     "execution_count": 14,
     "metadata": {},
     "output_type": "execute_result"
    }
   ],
   "source": [
    "### Compare statistitical numbers of salary by education\n",
    "\n",
    "df2 = df.groupby('education')['salary'].describe()\n",
    "\n",
    "### Tune the headers\n",
    "\n",
    "df2.index = education\n",
    "\n",
    "### Tune the number style\n",
    "\n",
    "df2.style.format('{:.0f}')"
   ]
  },
  {
   "cell_type": "markdown",
   "id": "b1083a12",
   "metadata": {},
   "source": [
    "## Box and whiskers chart i.e. boxplot"
   ]
  },
  {
   "cell_type": "markdown",
   "id": "f3aab817",
   "metadata": {},
   "source": [
    "Box and whisker chart is a graphic way to compare statistical numbers. The chart gives the summary of five important statistical numbers (minimum, lower quartile, median, upper quartile, maximum) and outliers. "
   ]
  },
  {
   "cell_type": "code",
   "execution_count": 27,
   "id": "688aa025",
   "metadata": {
    "scrolled": true
   },
   "outputs": [
    {
     "data": {
      "text/plain": [
       "Text(0, 0.5, 'Monthly salary')"
      ]
     },
     "execution_count": 27,
     "metadata": {},
     "output_type": "execute_result"
    },
    {
     "data": {
      "image/png": "[encoded data removed]",
      "text/plain": [
       "<Figure size 432x288 with 1 Axes>"
      ]
     },
     "metadata": {},
     "output_type": "display_data"
    }
   ],
   "source": [
    "### Compare salary by sex using box and whisker chart.\n",
    "\n",
    "sns.boxplot(data = df, x = 'sex', y = 'salary')\n",
    "\n",
    "### And then finalising the chart\n",
    "\n",
    "### Add the legends for horisontal axis along with n-values\n",
    "\n",
    "plt.xticks(ticks = [0,1],\n",
    "          labels = ['Man, n=' + str(df['salary'][df['sex'] == 1].count()),\n",
    "                    'Woman, n=' + str(df['salary'][df['sex'] == 2].count())])\n",
    "\n",
    "### Remove the unnecessary horisontal axis title\n",
    "\n",
    "plt.xlabel('')\n",
    "\n",
    "### Add vertical axis label\n",
    "\n",
    "plt.ylabel('Monthly salary')"
   ]
  },
  {
   "cell_type": "code",
   "execution_count": 31,
   "id": "6489cbb3",
   "metadata": {},
   "outputs": [
    {
     "data": {
      "text/plain": [
       "Text(0, 0.5, 'Monthly salary')"
      ]
     },
     "execution_count": 31,
     "metadata": {},
     "output_type": "execute_result"
    },
    {
     "data": {
      "image/png": "[encoded data removed]",
      "text/plain": [
       "<Figure size 432x288 with 1 Axes>"
      ]
     },
     "metadata": {},
     "output_type": "display_data"
    }
   ],
   "source": [
    "### Compare salary now by education using box and whisker chart.\n",
    "\n",
    "sns.boxplot(data = df, x = 'education', y = 'salary')\n",
    "\n",
    "### Anf then some tuning\n",
    "\n",
    "### Names of education groups from the corresponding list\n",
    "\n",
    "plt.xticks(ticks = [0, 1, 2, 3], labels = ['Comprehensive', 'Upper secondary', 'Academic', 'Higher academic'])\n",
    "\n",
    "### Remove the unnecessary horisontal axis title\n",
    "\n",
    "plt.xlabel('')\n",
    "\n",
    "### Add vertical axis label\n",
    "\n",
    "plt.ylabel('Monthly salary')"
   ]
  },
  {
   "cell_type": "markdown",
   "id": "4eb94581",
   "metadata": {},
   "source": [
    "## Pivot_table()"
   ]
  },
  {
   "cell_type": "markdown",
   "id": "f3ae2f74",
   "metadata": {},
   "source": [
    "By default means are calculated for the pivot tables."
   ]
  },
  {
   "cell_type": "code",
   "execution_count": 37,
   "id": "b3305e8f",
   "metadata": {},
   "outputs": [
    {
     "data": {
      "text/html": [
       "<style type=\"text/css\">\n",
       "</style>\n",
       "<table id=\"T_8f99b_\">\n",
       "  <thead>\n",
       "    <tr>\n",
       "      <th class=\"blank level0\" >&nbsp;</th>\n",
       "      <th class=\"col_heading level0 col0\" >Male</th>\n",
       "      <th class=\"col_heading level0 col1\" >Female</th>\n",
       "      <th class=\"col_heading level0 col2\" >Total</th>\n",
       "    </tr>\n",
       "  </thead>\n",
       "  <tbody>\n",
       "    <tr>\n",
       "      <th id=\"T_8f99b_level0_row0\" class=\"row_heading level0 row0\" >Comprehensive school</th>\n",
       "      <td id=\"T_8f99b_row0_col0\" class=\"data row0 col0\" >2354</td>\n",
       "      <td id=\"T_8f99b_row0_col1\" class=\"data row0 col1\" >2121</td>\n",
       "      <td id=\"T_8f99b_row0_col2\" class=\"data row0 col2\" >2310</td>\n",
       "    </tr>\n",
       "    <tr>\n",
       "      <th id=\"T_8f99b_level0_row1\" class=\"row_heading level0 row1\" >Upper secondary school</th>\n",
       "      <td id=\"T_8f99b_row1_col0\" class=\"data row1 col0\" >2461</td>\n",
       "      <td id=\"T_8f99b_row1_col1\" class=\"data row1 col1\" >2211</td>\n",
       "      <td id=\"T_8f99b_row1_col2\" class=\"data row1 col2\" >2403</td>\n",
       "    </tr>\n",
       "    <tr>\n",
       "      <th id=\"T_8f99b_level0_row2\" class=\"row_heading level0 row2\" >Academic degree</th>\n",
       "      <td id=\"T_8f99b_row2_col0\" class=\"data row2 col0\" >3145</td>\n",
       "      <td id=\"T_8f99b_row2_col1\" class=\"data row2 col1\" >2334</td>\n",
       "      <td id=\"T_8f99b_row2_col2\" class=\"data row2 col2\" >2887</td>\n",
       "    </tr>\n",
       "    <tr>\n",
       "      <th id=\"T_8f99b_level0_row3\" class=\"row_heading level0 row3\" >Higher academic degree</th>\n",
       "      <td id=\"T_8f99b_row3_col0\" class=\"data row3 col0\" >5147</td>\n",
       "      <td id=\"T_8f99b_row3_col1\" class=\"data row3 col1\" >nan</td>\n",
       "      <td id=\"T_8f99b_row3_col2\" class=\"data row3 col2\" >5147</td>\n",
       "    </tr>\n",
       "    <tr>\n",
       "      <th id=\"T_8f99b_level0_row4\" class=\"row_heading level0 row4\" >Total</th>\n",
       "      <td id=\"T_8f99b_row4_col0\" class=\"data row4 col0\" >2675</td>\n",
       "      <td id=\"T_8f99b_row4_col1\" class=\"data row4 col1\" >2233</td>\n",
       "      <td id=\"T_8f99b_row4_col2\" class=\"data row4 col2\" >2571</td>\n",
       "    </tr>\n",
       "  </tbody>\n",
       "</table>\n"
      ],
      "text/plain": [
       "<pandas.io.formats.style.Styler at 0x2d16ef9bac8>"
      ]
     },
     "execution_count": 37,
     "metadata": {},
     "output_type": "execute_result"
    }
   ],
   "source": [
    "### Compare the means of salaries by sex and education.\n",
    "\n",
    "df3 = df.pivot_table(values = 'salary', index = 'education', columns = 'sex', margins = True)\n",
    "\n",
    "### New kind of polishing is needed\n",
    "\n",
    "### Into listst with string values we add a header for the last row and column (Total)\n",
    "\n",
    "df3.index = education + ['Total']\n",
    "df3.columns = sex + ['Total']\n",
    "\n",
    "### Finally, tune the number formats\n",
    "\n",
    "df3.style.format('{:.0f}')"
   ]
  },
  {
   "cell_type": "markdown",
   "id": "0f35a861",
   "metadata": {},
   "source": [
    "## Are differences in means statistically significant?"
   ]
  },
  {
   "cell_type": "markdown",
   "id": "40097722",
   "metadata": {},
   "source": [
    "When conclusions about bigger population are considered based on results calculated from smaller samples of the population, issues about statistical significance need to be considered. \n",
    "For instance, differences between groups in a sample may be too small in order to be generalized to the bigger population where the sample is chosen from.\n",
    "There might be a difference caused by sampling error (randomness) in question. "
   ]
  },
  {
   "cell_type": "markdown",
   "id": "00a384be",
   "metadata": {},
   "source": [
    "Difference is called statistically significant if it can be generalized to a bigger population the sample is chosen from. Significance of difference can be tested by calculating the so-called <strong>p-value</strong>. The smaller the p-value is, the more significant is the difference. Standard practice is that p-values below 0,05, i.e. 5 %, are considered signs of differences that are statistically significant. "
   ]
  },
  {
   "cell_type": "markdown",
   "id": "7614cae3",
   "metadata": {},
   "source": [
    "P-value related to comparing means of two groups can be calculated with the so-called t-test of two independent groups (<strong>ttest_ind</strong>). If there are missing values in the data, add the parameter <strong>nan_policy='omit'</strong> for the function."
   ]
  },
  {
   "cell_type": "code",
   "execution_count": 38,
   "id": "3f7f01db",
   "metadata": {},
   "outputs": [
    {
     "data": {
      "text/plain": [
       "Ttest_indResult(statistic=3.0597612743474714, pvalue=0.003048272029697872)"
      ]
     },
     "execution_count": 38,
     "metadata": {},
     "output_type": "execute_result"
    }
   ],
   "source": [
    "### Create the groups to be compared\n",
    "\n",
    "s1 = df['salary'][df['sex'] == 1]  ### group of men\n",
    "s2 = df['salary'][df['sex'] == 2]  ### group of women\n",
    "\n",
    "### The t-test of two independent groups (ind stands for independent)\n",
    "### Import the library\n",
    "\n",
    "from scipy.stats import ttest_ind\n",
    "\n",
    "ttest_ind(s1, s2, equal_var = False)"
   ]
  },
  {
   "cell_type": "markdown",
   "id": "05675298",
   "metadata": {},
   "source": [
    "Hence we can conclude that there is a statistically significant difference between the means of salaries of men (the mean is 2664 euros) and women (the mean is 2233 euros). This is because the p-value calculated by two-tailed t-test of two independent groups is 0,003."
   ]
  },
  {
   "cell_type": "markdown",
   "id": "826ff340",
   "metadata": {},
   "source": [
    "When means of several groups are compared the p-values can be compared using the F-test (<strong>f_oneway</strong>). If the variable considered has missing values in the data, the data has to be replaced by another one where there are no rows with missing values. For instance, if we consider the data of salaries as above we see that there are no missing values. But <em>if there were missing values</em>, then the data obtained from the origal one applied with the command <br />\n",
    "<center><strong>df.dropna(subset=['salary'])</strong></center>"
   ]
  },
  {
   "cell_type": "code",
   "execution_count": 40,
   "id": "9da9c257",
   "metadata": {},
   "outputs": [
    {
     "data": {
      "text/plain": [
       "F_onewayResult(statistic=11.675086950951924, pvalue=2.186573534680074e-06)"
      ]
     },
     "execution_count": 40,
     "metadata": {},
     "output_type": "execute_result"
    }
   ],
   "source": [
    "### Create the groups to be compared\n",
    "\n",
    "k1 = df['salary'][df['education'] == 1]   ### comprehensive school\n",
    "k2 = df['salary'][df['education'] == 2]   ### upper secondary school\n",
    "k3 = df['salary'][df['education'] == 3]   ### academic degree\n",
    "k4 = df['salary'][df['education'] == 4]   ### higher academic degree\n",
    "\n",
    "### F-test \n",
    "\n",
    "from scipy.stats import f_oneway\n",
    "f_oneway(k1, k2, k3, k4)"
   ]
  },
  {
   "cell_type": "markdown",
   "id": "4fe27ee3",
   "metadata": {},
   "source": [
    "Here we conclude that there are statistically significant differences between salaries of those with different education. This is because the p-value given by the F-test is 0,000002."
   ]
  },
  {
   "cell_type": "markdown",
   "id": "a7334dc9",
   "metadata": {},
   "source": [
    "Source and origin of inspiration:<br /> \n",
    "Aki Taanila: Data-analytiikka Pythonilla: <a href=\"https://tilastoapu.wordpress.com/python/\">https://tilastoapu.wordpress.com/python/</a>"
   ]
  }
 ],
 "metadata": {
  "kernelspec": {
   "display_name": "Python 3",
   "language": "python",
   "name": "python3"
  },
  "language_info": {
   "codemirror_mode": {
    "name": "ipython",
    "version": 3
   },
   "file_extension": ".py",
   "mimetype": "text/x-python",
   "name": "python",
   "nbconvert_exporter": "python",
   "pygments_lexer": "ipython3",
   "version": "3.7.10"
  }
 },
 "nbformat": 4,
 "nbformat_minor": 5
}
